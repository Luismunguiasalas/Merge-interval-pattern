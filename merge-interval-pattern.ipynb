{
 "metadata": {
  "language_info": {
   "codemirror_mode": {
    "name": "ipython",
    "version": 3
   },
   "file_extension": ".py",
   "mimetype": "text/x-python",
   "name": "python",
   "nbconvert_exporter": "python",
   "pygments_lexer": "ipython3",
   "version": 3
  },
  "orig_nbformat": 2
 },
 "nbformat": 4,
 "nbformat_minor": 2,
 "cells": [
  {
   "cell_type": "code",
   "execution_count": null,
   "metadata": {},
   "outputs": [],
   "source": [
    "# merging intervals is an efficient technique to deal with overlapping intervals. In most problems involving intervals, we either need to find overlapping intervals or merge intervals if they are overlapping.\n",
    "\n",
    "# given two intervals \"a\", \"b\", there will be 6 different ways the two intervals can relate to each other.\n",
    "# 1. a and b do not overlap . but a starts first\n",
    "# 2. a and b do overlap and b ends after a\n",
    "# 3. a completely overlaps b\n",
    "# 4. a and b do overlap and a ends after b\n",
    "# 5. b completely overlaps a\n",
    "# 6. a and b do not overlap . but b starts first"
   ]
  }
 ]
}