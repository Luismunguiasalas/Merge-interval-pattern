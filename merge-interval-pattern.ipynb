{
 "metadata": {
  "language_info": {
   "codemirror_mode": {
    "name": "ipython",
    "version": 3
   },
   "file_extension": ".py",
   "mimetype": "text/x-python",
   "name": "python",
   "nbconvert_exporter": "python",
   "pygments_lexer": "ipython3",
   "version": "3.8.5-final"
  },
  "orig_nbformat": 2,
  "kernelspec": {
   "name": "python3",
   "display_name": "Python 3",
   "language": "python"
  }
 },
 "nbformat": 4,
 "nbformat_minor": 2,
 "cells": [
  {
   "cell_type": "code",
   "execution_count": null,
   "metadata": {},
   "outputs": [],
   "source": [
    "# merging intervals is an efficient technique to deal with overlapping intervals. In most problems involving intervals, we either need to find overlapping intervals or merge intervals if they are overlapping.\n",
    "\n",
    "# given two intervals \"a\", \"b\", there will be 6 different ways the two intervals can relate to each other.\n",
    "# 1. a and b do not overlap . but a starts first\n",
    "# 2. a and b do overlap and b ends after a\n",
    "# 3. a completely overlaps b\n",
    "# 4. a and b do overlap and a ends after b\n",
    "# 5. b completely overlaps a\n",
    "# 6. a and b do not overlap . but b starts first"
   ]
  },
  {
   "cell_type": "code",
   "execution_count": 13,
   "metadata": {},
   "outputs": [
    {
     "output_type": "execute_result",
     "data": {
      "text/plain": [
       "[[2, 4], [5, 9]]"
      ]
     },
     "metadata": {},
     "execution_count": 13
    }
   ],
   "source": [
    "# given a list of intervals, merge all the overlapping intervals to produce a list that has only mutually exclusive intervals\n",
    "def merged(intervals):\n",
    "    intervals.sort()\n",
    "    temp = None\n",
    "    merged = []\n",
    "    for i,interval in enumerate(intervals):\n",
    "        if i >= 1:\n",
    "            if interval[0] < temp[1]:\n",
    "                if temp[0] >= interval[0] <= temp[1]:\n",
    "                    temp[0] = interval[0]\n",
    "                if temp[1] <= interval[1] and temp[0] <= interval[0] <= temp[1]:\n",
    "                    temp[1] = interval[1]\n",
    "            else:\n",
    "                merged.append(temp)\n",
    "                temp = interval\n",
    "            if i == len(intervals)-1:\n",
    "                merged.append(temp)\n",
    "        else:\n",
    "            temp = interval\n",
    "    return merged\n",
    "# intervals = [[1,4], [2,5], [7,9]]\n",
    "# intervals = [[1,4], [2,6], [3,5]]\n",
    "intervals = [[6,7],[2,4],[5,9]]\n",
    "merged(intervals)\n",
    "# time complexity O(n log n)\n",
    "# space complexity O(n)"
   ]
  },
  {
   "cell_type": "code",
   "execution_count": 17,
   "metadata": {},
   "outputs": [
    {
     "output_type": "execute_result",
     "data": {
      "text/plain": [
       "[[1, 3], [4, 7], [8, 12]]"
      ]
     },
     "metadata": {},
     "execution_count": 17
    }
   ],
   "source": [
    "# Given a list of non-overlapping intervals sorted by their start time, insert a given interval at the correct position and merge all necessary intervals to produce a list that has only mutually exclusive intervals.\n",
    "\n",
    "def insert(intervals,new_interval):\n",
    "    temp = None\n",
    "    merged = []\n",
    "    for i,interval in enumerate(intervals):\n",
    "        if i >= 1:\n",
    "            if interval[0] < temp[1]:\n",
    "                if temp[0] > interval[0]:\n",
    "                    temp[0] = interval[0]\n",
    "                if temp[1] < interval[1]:\n",
    "                    temp[1] = interval[1]\n",
    "            else:\n",
    "                merged.append(temp)\n",
    "                temp = interval\n",
    "            if i == len(intervals)-1:\n",
    "                merged.append(temp)\n",
    "        else:\n",
    "            if new_interval[0] < interval[0]:\n",
    "                interval[0] = new_interval[0]\n",
    "                if new_interval[1] > interval[1]:\n",
    "                    interval[1] = new_interval[1]\n",
    "            temp = interval\n",
    "    return merged\n",
    "\n",
    "def insert(intervals,new_interval):\n",
    "    intervals.append(new_interval)\n",
    "    intervals.sort()\n",
    "    temp = None\n",
    "    merged = []\n",
    "    for i , interval in enumerate(intervals):\n",
    "        if i >= 1:\n",
    "            if interval[0] < temp[1]:\n",
    "                if temp[0] > interval[0]:\n",
    "                    temp[0] = interval[0]\n",
    "                if temp[1] < interval[1]:\n",
    "                    temp[1] = interval[1]\n",
    "            else:\n",
    "                merged.append(temp)\n",
    "                temp = interval\n",
    "            if i == len(intervals)-1:\n",
    "                merged.append(temp)\n",
    "        else:\n",
    "            temp = interval\n",
    "    return merged\n",
    "\n",
    "val=[[1,3], [5,7], [8,12]]\n",
    "nval=[4,10]\n",
    "val=[[1,3], [5,7], [8,12]]\n",
    "nval=[4,6]\n",
    "\n",
    "insert(val,nval)\n",
    "# time complexity O(n log n)\n",
    "# space complexity O(1)"
   ]
  },
  {
   "cell_type": "code",
   "execution_count": 7,
   "metadata": {},
   "outputs": [
    {
     "output_type": "execute_result",
     "data": {
      "text/plain": [
       "[[5, 7], [9, 10]]"
      ]
     },
     "metadata": {},
     "execution_count": 7
    }
   ],
   "source": [
    "# Given two lists of intervals, find the intersection of these two lists. Each list consists of disjoint intervals sorted on their start time.\n",
    "def merge(interval_a,interval_b):\n",
    "    ans = []\n",
    "    for int_b in interval_b:\n",
    "        for int_a in interval_a:\n",
    "            if int_a[0] <= int_b[0] <= int_a[1] or int_a[0] <= int_b[1] <= int_a[1]:\n",
    "                tmp = []\n",
    "                tmp.append(max(int_b[0], int_a[0]))\n",
    "                tmp.append(min(int_b[1], int_a[1]))\n",
    "                ans.append(tmp)\n",
    "    return ans\n",
    "\n",
    "def merge(interval_a,interval_b):\n",
    "    ans = []\n",
    "    for b in interval_b: \n",
    "        for a in interval_a:\n",
    "            if a[0] <= b[0] <= a[1] or a[0] <= b[1] <= a[1]:\n",
    "                ans.append([max(a[0],b[0]),min(a[1],b[1])])\n",
    "    return ans\n",
    "            \n",
    "\n",
    "# arr1=[[1, 3], [5, 6], [7, 9]]\n",
    "# arr2=[[2, 3], [5, 7]]\n",
    "arr1=[[1, 3], [5, 7], [9, 12]]\n",
    "arr2=[[5, 10]]\n",
    "merge(arr1,arr2)"
   ]
  }
 ]
}